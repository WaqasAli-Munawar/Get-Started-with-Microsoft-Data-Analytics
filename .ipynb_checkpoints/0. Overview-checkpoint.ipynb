{
 "cells": [
  {
   "cell_type": "markdown",
   "metadata": {},
   "source": [
    "### Get Started with Microsoft Data Analytics\n",
    "\n",
    "Learn how to load, clean, and transform Data in Power BI."
   ]
  },
  {
   "cell_type": "markdown",
   "metadata": {},
   "source": [
    "### WE WILL LEARN HOW TO\n",
    "* Explore the potential of Power BI, including its building blocks and how they work together\n",
    "* Import data from common sources into Power BI\n",
    "* Rename objects, pivot data, and select the valuable data for your analysis\n",
    "* Simplify a complicated model and change data types\n",
    "* Combine data and find anomalies"
   ]
  },
  {
   "cell_type": "markdown",
   "metadata": {},
   "source": [
    "# Course Lessons\n",
    "\n",
    "### 1. Get Started Building with Power BI\n",
    "\n",
    "WE WILL LEARN HOW TO\n",
    "* Make Power BI services and applications work together\n",
    "* Employ Power BI to make your business more efficient\n",
    "* Create compelling visuals and reports\n",
    "    \n",
    "\n",
    "### 2. Get Data in Power BI\n",
    "\n",
    "WE WILL LEARN HOW TO\n",
    "* Identify and connect to a data source\n",
    "* Obtain data from a variety of data sources\n",
    "* Select a storage mode\n",
    "\n",
    "\n",
    "### 3. Load, Clean, and Transform Data in Power BI - I\n",
    "\n",
    "WE WILL LEARN HOW TO\n",
    "* Resolve inconsistencies, unexpected or null values, and data quality issues\n",
    "* Apply data shape transformations to table structures\n",
    "* Apply user-friendly naming conventions to columns\n",
    "\n",
    "\n",
    "### 4. Load, Clean, and Transform Data in Power BI - II\n",
    "\n",
    "WE WILL LEARN HOW TO\n",
    "* Apply user-friendly value replacements and naming conventions to columns and queries\n",
    "* Profile data, evaluate, and transform column data types\n",
    "* Apply data shape transformations to table structures\n",
    "\n",
    "\n",
    "### 5. Load, Clean, and Transform Data in Power BI - III\n",
    "\n",
    "WE WILL LEARN HOW TO\n",
    "* Profile data, evaluate, and transform column data types\n",
    "* Apply data shape transformations to table structures\n"
   ]
  },
  {
   "cell_type": "code",
   "execution_count": null,
   "metadata": {},
   "outputs": [],
   "source": []
  }
 ],
 "metadata": {
  "kernelspec": {
   "display_name": "Python 3",
   "language": "python",
   "name": "python3"
  },
  "language_info": {
   "codemirror_mode": {
    "name": "ipython",
    "version": 3
   },
   "file_extension": ".py",
   "mimetype": "text/x-python",
   "name": "python",
   "nbconvert_exporter": "python",
   "pygments_lexer": "ipython3",
   "version": "3.7.6"
  }
 },
 "nbformat": 4,
 "nbformat_minor": 4
}
